{
 "cells": [
  {
   "cell_type": "code",
   "execution_count": 1,
   "metadata": {
    "collapsed": true
   },
   "outputs": [],
   "source": [
    "import numpy as np\n",
    "import random"
   ]
  },
  {
   "cell_type": "code",
   "execution_count": 2,
   "metadata": {
    "collapsed": true
   },
   "outputs": [],
   "source": [
    "n_trials = 5000\n",
    "max_steps = 2000"
   ]
  },
  {
   "cell_type": "code",
   "execution_count": 149,
   "metadata": {
    "collapsed": false
   },
   "outputs": [],
   "source": [
    "class Environment():\n",
    "    def __init__(self):\n",
    "        self.grid_size = (8, 6)\n",
    "        self.valid_headings = np.array([[1, 0], [0, -1], [-1, 0], [0, 1]])\n",
    "\n",
    "class Agent():\n",
    "    def __init__(self, env):\n",
    "        self.env = env\n",
    "        self.pos = np.zeros(2)\n",
    "        self.heading = random.choice(env.valid_headings)\n",
    "        \n",
    "    def step(self, verbose=False):\n",
    "        action = random.choice(['f', 'l', 'r', None])\n",
    "        if action:\n",
    "            if action == 'f':\n",
    "                rot = np.array([[1, 0], [0, 1]])\n",
    "            elif action == 'l':\n",
    "                rot = np.array([[0, -1], [1, 0]])\n",
    "            elif action == 'r':\n",
    "                rot = np.array([[0, 1], [-1, 0]])\n",
    "            \n",
    "            self.heading = np.dot(rot, self.heading)\n",
    "            self.pos = np.add(self.pos, self.heading)\n",
    "            \n",
    "            self.pos[0] = np.mod(self.pos[0], self.env.grid_size[0])\n",
    "            self.pos[1] = np.mod(self.pos[1], self.env.grid_size[1])\n",
    "        \n",
    "        if verbose:\n",
    "            print(\"pos: {:10}, action: {:5}, heading: {:10}\".format(a.pos, action, a.heading))"
   ]
  },
  {
   "cell_type": "code",
   "execution_count": 150,
   "metadata": {
    "collapsed": false
   },
   "outputs": [],
   "source": [
    "e = Environment()\n",
    "a = Agent(e)"
   ]
  },
  {
   "cell_type": "code",
   "execution_count": 151,
   "metadata": {
    "collapsed": false
   },
   "outputs": [
    {
     "data": {
      "text/plain": [
       "array([1, 0])"
      ]
     },
     "execution_count": 151,
     "metadata": {},
     "output_type": "execute_result"
    }
   ],
   "source": [
    "a.heading"
   ]
  },
  {
   "cell_type": "code",
   "execution_count": 152,
   "metadata": {
    "collapsed": false
   },
   "outputs": [
    {
     "data": {
      "text/plain": [
       "array([ 0, -1])"
      ]
     },
     "execution_count": 152,
     "metadata": {},
     "output_type": "execute_result"
    }
   ],
   "source": [
    "l_rot = np.array([[0, -1], [1, 0]])\n",
    "r_rot = np.array([[0, 1], [-1, 0]])\n",
    "np.dot(r_rot, a.heading)"
   ]
  },
  {
   "cell_type": "code",
   "execution_count": 153,
   "metadata": {
    "collapsed": false
   },
   "outputs": [],
   "source": [
    "import random\n",
    "heading = random.sample(valid_headings, 1)"
   ]
  },
  {
   "cell_type": "code",
   "execution_count": 154,
   "metadata": {
    "collapsed": false
   },
   "outputs": [
    {
     "data": {
      "text/plain": [
       "array([1, 0])"
      ]
     },
     "execution_count": 154,
     "metadata": {},
     "output_type": "execute_result"
    }
   ],
   "source": [
    "np.array(a.heading)"
   ]
  },
  {
   "cell_type": "code",
   "execution_count": 155,
   "metadata": {
    "collapsed": false
   },
   "outputs": [
    {
     "data": {
      "text/plain": [
       "array([ 0.,  0.])"
      ]
     },
     "execution_count": 155,
     "metadata": {},
     "output_type": "execute_result"
    }
   ],
   "source": [
    "a.pos"
   ]
  },
  {
   "cell_type": "code",
   "execution_count": 156,
   "metadata": {
    "collapsed": false
   },
   "outputs": [
    {
     "name": "stdout",
     "output_type": "stream",
     "text": [
      "a\n"
     ]
    }
   ],
   "source": [
    "if 'f': print 'a'"
   ]
  },
  {
   "cell_type": "code",
   "execution_count": 157,
   "metadata": {
    "collapsed": false
   },
   "outputs": [
    {
     "data": {
      "text/plain": [
       "array([ 1.,  0.])"
      ]
     },
     "execution_count": 157,
     "metadata": {},
     "output_type": "execute_result"
    }
   ],
   "source": [
    "np.add(a.pos, a.heading)"
   ]
  },
  {
   "cell_type": "code",
   "execution_count": 159,
   "metadata": {
    "collapsed": false
   },
   "outputs": [
    {
     "name": "stdout",
     "output_type": "stream",
     "text": [
      "pos: [ 3.  0.] , action: l    , heading: [1 0]     \n",
      "pos: [ 4.  0.] , action: f    , heading: [1 0]     \n",
      "pos: [ 4.  1.] , action: l    , heading: [0 1]     \n",
      "pos: [ 3.  1.] , action: l    , heading: [-1  0]   \n",
      "pos: [ 2.  1.] , action: f    , heading: [-1  0]   \n",
      "pos: [ 2.  0.] , action: l    , heading: [ 0 -1]   \n",
      "pos: [ 1.  0.] , action: r    , heading: [-1  0]   \n",
      "pos: [ 0.  0.] , action: f    , heading: [-1  0]   \n",
      "pos: [ 0.  0.] , action: None , heading: [-1  0]   \n",
      "pos: [ 0.  5.] , action: l    , heading: [ 0 -1]   \n"
     ]
    }
   ],
   "source": [
    "for ii in range(10):\n",
    "    a.step(verbose=True)"
   ]
  },
  {
   "cell_type": "code",
   "execution_count": 163,
   "metadata": {
    "collapsed": false
   },
   "outputs": [],
   "source": [
    "print a.pos.all?"
   ]
  },
  {
   "cell_type": "code",
   "execution_count": 165,
   "metadata": {
    "collapsed": false
   },
   "outputs": [
    {
     "name": "stdout",
     "output_type": "stream",
     "text": [
      "False\n"
     ]
    }
   ],
   "source": [
    "print np.all(a.pos == [0, 3])"
   ]
  },
  {
   "cell_type": "code",
   "execution_count": null,
   "metadata": {
    "collapsed": true
   },
   "outputs": [],
   "source": []
  }
 ],
 "metadata": {
  "kernelspec": {
   "display_name": "Python 2",
   "language": "python",
   "name": "python2"
  },
  "language_info": {
   "codemirror_mode": {
    "name": "ipython",
    "version": 2
   },
   "file_extension": ".py",
   "mimetype": "text/x-python",
   "name": "python",
   "nbconvert_exporter": "python",
   "pygments_lexer": "ipython2",
   "version": "2.7.11"
  }
 },
 "nbformat": 4,
 "nbformat_minor": 0
}
