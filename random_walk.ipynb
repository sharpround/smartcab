{
 "cells": [
  {
   "cell_type": "code",
   "execution_count": 1,
   "metadata": {
    "collapsed": false
   },
   "outputs": [],
   "source": [
    "import numpy as np\n",
    "import random\n",
    "import pandas as pd\n",
    "import matplotlib.pyplot as plt\n",
    "\n",
    "%matplotlib inline"
   ]
  },
  {
   "cell_type": "code",
   "execution_count": 2,
   "metadata": {
    "collapsed": false
   },
   "outputs": [],
   "source": [
    "class Environment():\n",
    "    def __init__(self):\n",
    "        self.grid_size = (8, 6)\n",
    "        self.valid_headings = np.array([[1, 0], [0, -1], [-1, 0], [0, 1]])\n",
    "\n",
    "class Agent():\n",
    "    def __init__(self, env):\n",
    "        self.env = env\n",
    "        self.pos = np.zeros(2)\n",
    "        self.heading = random.choice(env.valid_headings)\n",
    "        \n",
    "        \n",
    "    def reset(self):\n",
    "        self.pos = np.zeros(2)\n",
    "        self.heading = random.choice(self.env.valid_headings)\n",
    "        \n",
    "        \n",
    "    def step(self, verbose=False):\n",
    "        action = random.choice(['f', 'l', 'r', None])\n",
    "        if action:\n",
    "            if action == 'f':\n",
    "                rot = np.array([[1, 0], [0, 1]])\n",
    "            elif action == 'l':\n",
    "                rot = np.array([[0, -1], [1, 0]])\n",
    "            elif action == 'r':\n",
    "                rot = np.array([[0, 1], [-1, 0]])\n",
    "            \n",
    "            self.heading = np.dot(rot, self.heading)\n",
    "            self.pos = np.add(self.pos, self.heading)\n",
    "            \n",
    "            self.pos[0] = np.mod(self.pos[0], self.env.grid_size[0])\n",
    "            self.pos[1] = np.mod(self.pos[1], self.env.grid_size[1])\n",
    "        \n",
    "        if verbose:\n",
    "            print(\"pos: {:10}, action: {:5}, heading: {:10}\".format(a.pos, action, a.heading))"
   ]
  },
  {
   "cell_type": "code",
   "execution_count": 3,
   "metadata": {
    "collapsed": false
   },
   "outputs": [],
   "source": [
    "e = Environment()\n",
    "a = Agent(e)"
   ]
  },
  {
   "cell_type": "code",
   "execution_count": 32,
   "metadata": {
    "collapsed": false
   },
   "outputs": [],
   "source": [
    "# target = (0, 0)\n",
    "\n",
    "n_trials = 50000\n",
    "max_steps = 500\n",
    "verbose = False\n",
    "\n",
    "e = Environment()\n",
    "a = Agent(e)\n",
    "data = pd.Series(index=range(n_trials))\n",
    "\n",
    "for ii in range(n_trials):\n",
    "    a.reset()\n",
    "    target = (0, 0)\n",
    "    while np.all((0, 0) == target):\n",
    "        target = (random.randint(0, e.grid_size[0]-1), random.randint(0, e.grid_size[1]-1))\n",
    "\n",
    "    for step in range(max_steps):\n",
    "        a.step(verbose=False)\n",
    "        if np.all(a.pos == target):\n",
    "            if verbose:\n",
    "                print(\"target = {}, trial {:4} complete in {:4} steps\".format(target, ii+1, step))\n",
    "            data[ii] = step\n",
    "            break"
   ]
  },
  {
   "cell_type": "code",
   "execution_count": 33,
   "metadata": {
    "collapsed": false
   },
   "outputs": [
    {
     "data": {
      "image/png": "[encoded data removed]",
      "text/plain": [
       "<matplotlib.figure.Figure at 0x13656ef0>"
      ]
     },
     "metadata": {},
     "output_type": "display_data"
    }
   ],
   "source": [
    "data.hist(bins=500)\n",
    "\n",
    "plt.title('random drive to target')\n",
    "plt.ylabel('frequency')\n",
    "plt.xlabel('num of steps')\n",
    "plt.savefig('random_drive_hist.png', dpi=240)"
   ]
  },
  {
   "cell_type": "code",
   "execution_count": 34,
   "metadata": {
    "collapsed": false
   },
   "outputs": [
    {
     "data": {
      "text/plain": [
       "61.71508894091282"
      ]
     },
     "execution_count": 34,
     "metadata": {},
     "output_type": "execute_result"
    }
   ],
   "source": [
    "data.mean()"
   ]
  },
  {
   "cell_type": "code",
   "execution_count": 38,
   "metadata": {
    "collapsed": false
   },
   "outputs": [
    {
     "data": {
      "text/plain": [
       "0.25     17\n",
       "0.50     43\n",
       "0.90    143\n",
       "dtype: float64"
      ]
     },
     "execution_count": 38,
     "metadata": {},
     "output_type": "execute_result"
    }
   ],
   "source": [
    "data.quantile([.25, .5, .9])"
   ]
  },
  {
   "cell_type": "code",
   "execution_count": null,
   "metadata": {
    "collapsed": true
   },
   "outputs": [],
   "source": []
  }
 ],
 "metadata": {
  "kernelspec": {
   "display_name": "Python 2",
   "language": "python",
   "name": "python2"
  },
  "language_info": {
   "codemirror_mode": {
    "name": "ipython",
    "version": 2
   },
   "file_extension": ".py",
   "mimetype": "text/x-python",
   "name": "python",
   "nbconvert_exporter": "python",
   "pygments_lexer": "ipython2",
   "version": "2.7.11"
  }
 },
 "nbformat": 4,
 "nbformat_minor": 0
}
